{
 "cells": [
  {
   "cell_type": "code",
   "execution_count": 1,
   "metadata": {
    "ExecuteTime": {
     "end_time": "2024-09-29T16:33:06.209440Z",
     "start_time": "2024-09-29T16:32:59.080554Z"
    }
   },
   "outputs": [],
   "source": [
    "import numpy as np\n",
    "import torch\n",
    "import torch.nn as nn\n",
    "import torch.optim as optim\n",
    "from sklearn.model_selection import ParameterGrid\n",
    "import spacy\n",
    "import string\n",
    "import matplotlib.pyplot as plt"
   ]
  },
  {
   "cell_type": "code",
   "execution_count": 2,
   "metadata": {
    "ExecuteTime": {
     "end_time": "2024-09-29T16:33:06.225421Z",
     "start_time": "2024-09-29T16:33:06.214436Z"
    }
   },
   "outputs": [],
   "source": [
    "device = torch.device('cuda' if torch.cuda.is_available() else 'cpu')"
   ]
  },
  {
   "cell_type": "code",
   "execution_count": 3,
   "metadata": {
    "ExecuteTime": {
     "end_time": "2024-09-29T16:33:12.062152Z",
     "start_time": "2024-09-29T16:33:06.545351Z"
    }
   },
   "outputs": [
    {
     "name": "stderr",
     "output_type": "stream",
     "text": [
      "[nltk_data] Downloading package punkt to\n",
      "[nltk_data]     C:\\Users\\Hp\\AppData\\Roaming\\nltk_data...\n",
      "[nltk_data]   Package punkt is already up-to-date!\n",
      "[nltk_data] Downloading package stopwords to\n",
      "[nltk_data]     C:\\Users\\Hp\\AppData\\Roaming\\nltk_data...\n",
      "[nltk_data]   Package stopwords is already up-to-date!\n",
      "[nltk_data] Downloading package punkt_tab to\n",
      "[nltk_data]     C:\\Users\\Hp\\AppData\\Roaming\\nltk_data...\n",
      "[nltk_data]   Package punkt_tab is already up-to-date!\n"
     ]
    }
   ],
   "source": [
    "import nltk\n",
    "from nltk.corpus import stopwords\n",
    "from nltk.tokenize import word_tokenize\n",
    "import string\n",
    "\n",
    "# Ensure required resources are downloaded\n",
    "nltk.download('punkt')\n",
    "nltk.download('stopwords')\n",
    "nltk.download('punkt_tab')\n",
    "\n",
    "# Load NLTK's stop words list and set of punctuation\n",
    "stop_words = set(stopwords.words('english'))\n",
    "punctuations = set(string.punctuation)\n",
    "\n",
    "# Step 1: Load and preprocess the text data using NLTK\n",
    "def load_and_preprocess_data(file_path):\n",
    "    with open(file_path, 'r') as f:\n",
    "        text = f.read().lower()  # Convert to lowercase\n",
    "    \n",
    "    # Split the text into chunks of 500,000 characters\n",
    "    chunks = [text[i:i + 500000] for i in range(0, len(text), 500000)]\n",
    "    \n",
    "    tokens = []\n",
    "    for chunk in chunks:\n",
    "        # Tokenization using NLTK\n",
    "        chunk_tokens = word_tokenize(chunk)\n",
    "        \n",
    "        # Stopword and punctuation removal\n",
    "        filtered_tokens = [token for token in chunk_tokens if token not in stop_words and token not in punctuations]\n",
    "        \n",
    "        tokens.extend(filtered_tokens)\n",
    "    \n",
    "    return tokens\n",
    "\n",
    "# Load and preprocess the data\n",
    "tokens = load_and_preprocess_data('Data/alllines.txt')\n"
   ]
  },
  {
   "cell_type": "code",
   "execution_count": 4,
   "metadata": {
    "ExecuteTime": {
     "end_time": "2024-09-29T16:33:12.563583Z",
     "start_time": "2024-09-29T16:33:12.080317Z"
    }
   },
   "outputs": [],
   "source": [
    "# Step 2: Create a vocabulary and convert tokens to integer sequences\n",
    "def create_sequences(tokens, seq_length):\n",
    "    # Create vocabulary\n",
    "    vocab = sorted(set(tokens))\n",
    "    word_to_idx = {word: idx for idx, word in enumerate(vocab)}\n",
    "    \n",
    "    # Convert tokens to integers\n",
    "    text_as_int = np.array([word_to_idx[word] for word in tokens])\n",
    "    \n",
    "    # Prepare overlapping sequences\n",
    "    sequences = []\n",
    "    for i in range(seq_length, len(text_as_int)):\n",
    "        sequences.append(text_as_int[i-seq_length:i+1])  # Input: seq_length words, Target: next word\n",
    "    \n",
    "    return np.array(sequences), vocab, word_to_idx\n",
    "\n",
    "# Create sequences\n",
    "seq_length = 5\n",
    "sequences, vocab, word_to_idx = create_sequences(tokens, seq_length)\n",
    "x, y = sequences[:, :-1], sequences[:, -1]  # Split into input and target\n",
    "\n",
    "# Convert data to PyTorch tensors\n",
    "x = torch.tensor(x, dtype=torch.long)\n",
    "y = torch.tensor(y, dtype=torch.long)\n",
    "\n",
    "# Step 3: Define the LSTM model\n",
    "class LSTMModel(nn.Module):\n",
    "    def __init__(self, vocab_size, embedding_dim, rnn_units, dropout_rate):\n",
    "        super(LSTMModel, self).__init__()\n",
    "        self.embedding = nn.Embedding(vocab_size, embedding_dim)\n",
    "        self.lstm = nn.LSTM(embedding_dim, rnn_units, batch_first=True)\n",
    "        self.dropout = nn.Dropout(dropout_rate)\n",
    "        self.fc = nn.Linear(rnn_units, vocab_size)\n",
    "\n",
    "    def forward(self, x):\n",
    "        x = self.embedding(x)\n",
    "        lstm_out, _ = self.lstm(x)\n",
    "        lstm_out = self.dropout(lstm_out[:, -1, :])  # Use only the last output\n",
    "        out = self.fc(lstm_out)\n",
    "        return out"
   ]
  },
  {
   "cell_type": "code",
   "execution_count": 5,
   "metadata": {
    "ExecuteTime": {
     "end_time": "2024-09-29T16:33:12.625600Z",
     "start_time": "2024-09-29T16:33:12.612599Z"
    }
   },
   "outputs": [
    {
     "name": "stdout",
     "output_type": "stream",
     "text": [
      "cuda\n"
     ]
    }
   ],
   "source": [
    "print (device)"
   ]
  },
  {
   "cell_type": "code",
   "execution_count": null,
   "metadata": {},
   "outputs": [],
   "source": [
    "from sklearn.model_selection import ParameterGrid\n",
    "import torch\n",
    "import torch.nn as nn\n",
    "import torch.optim as optim\n",
    "\n",
    "# Step 4: Define extensive grid of hyperparameters\n",
    "param_grid = {\n",
    "    'embedding_dim': [128, 256],\n",
    "    'rnn_units': [256, 512],\n",
    "    'dropout_rate': [0.2, 0.5],\n",
    "}\n",
    "\n",
    "# Track the loss for each hyperparameter configuration\n",
    "results = []\n",
    "best_score = float('inf')\n",
    "best_params = {}\n",
    "\n",
    "device = torch.device('cuda' if torch.cuda.is_available() else 'cpu')\n",
    "\n",
    "# Perform manual grid search\n",
    "for params in ParameterGrid(param_grid):\n",
    "    print(f\"Training with params: {params}\")\n",
    "\n",
    "    # Initialize the model\n",
    "    model = LSTMModel(vocab_size=len(vocab), embedding_dim=params['embedding_dim'], \n",
    "                      rnn_units=params['rnn_units'], dropout_rate=params['dropout_rate']).to(device)\n",
    "\n",
    "    # Loss function and optimizer\n",
    "    criterion = nn.CrossEntropyLoss()\n",
    "    optimizer = optim.Adam(model.parameters(), lr=0.001)\n",
    "\n",
    "    batch_size = 16  # Adjust the batch size here\n",
    "\n",
    "    # Train the model\n",
    "    model.train()\n",
    "    losses = []\n",
    "    for epoch in range(10):\n",
    "        epoch_loss = 0.0\n",
    "        num_batches = len(x) // batch_size\n",
    "        for i in range(0, len(x), batch_size):\n",
    "            # Get mini-batch data and move to device\n",
    "            batch_x = x[i:i+batch_size].to(device)\n",
    "            batch_y = y[i:i+batch_size].to(device)\n",
    "\n",
    "            optimizer.zero_grad()\n",
    "            output = model(batch_x)\n",
    "            loss = criterion(output, batch_y)\n",
    "            loss.backward()\n",
    "            optimizer.step()\n",
    "\n",
    "            # Accumulate the loss\n",
    "            epoch_loss += loss.item()\n",
    "\n",
    "        avg_epoch_loss = epoch_loss / num_batches\n",
    "        print(f\"Epoch {epoch+1}/10, Loss: {avg_epoch_loss}\")\n",
    "        losses.append(avg_epoch_loss)  # Record loss for this epoch\n",
    "\n",
    "    # Evaluate model\n",
    "    model.eval()  # Switch to evaluation mode\n",
    "    eval_loss = 0.0\n",
    "    with torch.no_grad():\n",
    "        for i in range(0, len(x), batch_size):\n",
    "            batch_x = x[i:i+batch_size].to(device)\n",
    "            batch_y = y[i:i+batch_size].to(device)\n",
    "            output = model(batch_x)\n",
    "            loss = criterion(output, batch_y)\n",
    "            eval_loss += loss.item()\n",
    "\n",
    "    avg_eval_loss = eval_loss / num_batches\n",
    "    print(f\"Final Score (loss): {avg_eval_loss}\")\n",
    "\n",
    "    # Store the results for comparison\n",
    "    results.append({\n",
    "        'params': params,\n",
    "        'losses': losses,\n",
    "        'final_loss': avg_eval_loss\n",
    "    })\n",
    "\n",
    "    if avg_eval_loss < best_score:  # Compare loss values\n",
    "        best_score = avg_eval_loss\n",
    "        best_params = params"
   ]
  },
  {
   "cell_type": "code",
   "execution_count": null,
   "metadata": {},
   "outputs": [],
   "source": [
    "# # Step 5: Plot the training losses for each hyperparameter configuration\n",
    "# plt.figure(figsize=(10, 6))\n",
    "# for result in results:\n",
    "#     params = result['params']\n",
    "#     losses = result['losses']\n",
    "#     plt.plot(losses, label=f\"ED: {params['embedding_dim']}, RU: {params['rnn_units']}, DR: {params['dropout_rate']}\")\n",
    "# \n",
    "# plt.title(\"Loss Comparison for Different Hyperparameter Configurations\")\n",
    "# plt.xlabel(\"Epoch\")\n",
    "# plt.ylabel(\"Loss\")\n",
    "# plt.legend(loc='upper right')\n",
    "# plt.grid(True)\n",
    "# plt.show()\n",
    "# \n",
    "# print(\"Best Hyperparameters:\", best_params)\n",
    "# print(\"Best Score:\", best_score)"
   ]
  },
  {
   "cell_type": "code",
   "execution_count": 8,
   "metadata": {
    "ExecuteTime": {
     "end_time": "2024-09-29T17:43:15.417482Z",
     "start_time": "2024-09-29T16:34:09.279946Z"
    }
   },
   "outputs": [
    {
     "name": "stdout",
     "output_type": "stream",
     "text": [
      "Epoch 1/10, Loss: 5.872152106439427\n",
      "Epoch 2/10, Loss: 5.772077547044501\n",
      "Epoch 3/10, Loss: 5.606407962578767\n",
      "Epoch 4/10, Loss: 5.45612438805093\n",
      "Epoch 5/10, Loss: 5.298393245850764\n",
      "Epoch 6/10, Loss: 5.11992034708003\n",
      "Epoch 7/10, Loss: 4.940209743490626\n",
      "Epoch 8/10, Loss: 4.787188032736669\n",
      "Epoch 9/10, Loss: 4.653117058378742\n",
      "Epoch 10/10, Loss: 4.540490421826196\n"
     ]
    }
   ],
   "source": [
    "# Step 6: Retrain the model with the best hyperparameters and save it\n",
    "# final_model = LSTMModel(vocab_size=len(vocab), embedding_dim=best_params['embedding_dim'],\n",
    "#                         rnn_units=best_params['rnn_units'], dropout_rate=best_params['dropout_rate'])\n",
    "\n",
    "final_model = LSTMModel(vocab_size=len(vocab), embedding_dim=128,\n",
    "                        rnn_units=256, dropout_rate=0.02).to(device)\n",
    "optimizer = optim.Adam(final_model.parameters(), lr=0.001)\n",
    "criterion = nn.CrossEntropyLoss()\n",
    "batch_size = 16\n",
    "# Retrain with more epochs\n",
    "final_model.train()\n",
    "\n",
    "for epoch in range(10):\n",
    "    epoch_loss = 0.0\n",
    "    num_batches = len(x) // batch_size\n",
    "    for i in range(0, len(x), batch_size):\n",
    "        # Get mini-batch data and move to device\n",
    "        batch_x = x[i:i+batch_size].to(device)\n",
    "        batch_y = y[i:i+batch_size].to(device)\n",
    "\n",
    "        optimizer.zero_grad()\n",
    "        output = final_model(batch_x)\n",
    "        loss = criterion(output, batch_y)\n",
    "        loss.backward()\n",
    "        optimizer.step()\n",
    "\n",
    "            # Accumulate the loss\n",
    "        epoch_loss += loss.item()\n",
    "\n",
    "    avg_epoch_loss = epoch_loss / num_batches\n",
    "    print(f\"Epoch {epoch+1}/10, Loss: {avg_epoch_loss}\")\n",
    "        "
   ]
  },
  {
   "cell_type": "code",
   "execution_count": 9,
   "metadata": {
    "ExecuteTime": {
     "end_time": "2024-09-29T17:43:15.749091Z",
     "start_time": "2024-09-29T17:43:15.609006Z"
    }
   },
   "outputs": [],
   "source": [
    "# Save the model\n",
    "torch.save(final_model.state_dict(), 'shakespeare_lstm_model.pth')"
   ]
  },
  {
   "cell_type": "code",
   "execution_count": null,
   "metadata": {},
   "outputs": [],
   "source": []
  }
 ],
 "metadata": {
  "kernelspec": {
   "display_name": "Python 3 (ipykernel)",
   "language": "python",
   "name": "python3"
  },
  "language_info": {
   "name": "python"
  }
 },
 "nbformat": 4,
 "nbformat_minor": 2
}
